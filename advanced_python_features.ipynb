{
 "cells": [
  {
   "cell_type": "markdown",
   "metadata": {},
   "source": [
    "# Advanced Features of Python"
   ]
  },
  {
   "cell_type": "markdown",
   "metadata": {},
   "source": [
    "**Python is a protocol orientated lanugage**, in that, for each behaviour, syntax, bytecote or top-level function, there is a way to implement that on an object via underscore methods. This methods are sometimes called **<i>'dunder'</i>** methods or **<i>data models</i>**.\n",
    "\n",
    "Pretty much all advanced methods rely on data models to implement their behaviour, namely:\n",
    " * Decorators - take advantage of the fact that structures are created at run time. Decorators are wrappers, as they extend the behavior of a function without explicitly modifying it.\n",
    "\n",
    " * Generators - Convert an eager computation that would otherwise run from the injection of its parameters to the final computation and allowing sequencing with other code by allocating yield points, where the program can take back control and receive the intermediate values, or small computation values.\n",
    " \n",
    " * Metaclasses - Metaclasses are hooks injected into the class construction process. Can solicit certain methods/variables upon the class definition. Can be thought of as interfaces in simmilar languages i.e. Java.\n",
    " \n",
    " * Context Managers - There are multiple scenarios where a piece of code will require a setup action and a teardown; before and after. Context managers make sure that the two actions will happen in concordance with each other.\n",
    " "
   ]
  },
  {
   "cell_type": "markdown",
   "metadata": {},
   "source": [
    "### Data Model Example\n"
   ]
  },
  {
   "cell_type": "code",
   "execution_count": 15,
   "metadata": {},
   "outputs": [
    {
     "name": "stdout",
     "output_type": "stream",
     "text": [
      "Value stored: 8\n"
     ]
    }
   ],
   "source": [
    "# some behavior to implement -> write some __function__\n",
    "# top-level function or top-level syntax -> corresponding __function__\n",
    "\n",
    "class MyNumber:\n",
    "    def __init__(self, x):\n",
    "        self.x = x\n",
    "        \n",
    "    def __add__(self, other):\n",
    "        return MyNumber(self.x + other.x)\n",
    "    \n",
    "    def __repr__(self):\n",
    "        return \"Value stored: {}\".format(self.x)\n",
    "    \n",
    "first = MyNumber(3)\n",
    "second = MyNumber(5)\n",
    "print(first + second)\n",
    "    "
   ]
  },
  {
   "cell_type": "markdown",
   "metadata": {},
   "source": [
    "## Decorators\n",
    "Decorators are handy when a certain functionallity needs to be added throughout several functions. For example, given that you would like to time these two functions:"
   ]
  },
  {
   "cell_type": "code",
   "execution_count": 20,
   "metadata": {},
   "outputs": [
    {
     "name": "stdout",
     "output_type": "stream",
     "text": [
      "8\n",
      "125\n",
      "64\n",
      "390625\n",
      "8\n",
      "125\n",
      "64\n",
      "390625\n"
     ]
    }
   ],
   "source": [
    "def power(x, y):\n",
    "    return x**y\n",
    "\n",
    "def power_loop(x, y):\n",
    "    rv = x\n",
    "    for i in range(y-1):\n",
    "        rv *= x\n",
    "    return rv\n",
    "\n",
    "print(power(2,3))\n",
    "print(power(5,3))\n",
    "print(power(2,6))\n",
    "print(power(5,8))\n",
    "print(power_loop(2,3))\n",
    "print(power_loop(5,3))\n",
    "print(power_loop(2,6))\n",
    "print(power_loop(5,8))\n",
    "    "
   ]
  },
  {
   "cell_type": "markdown",
   "metadata": {},
   "source": [
    "The obvious choice would be to add a timer in both the class definitions, i.e:"
   ]
  },
  {
   "cell_type": "code",
   "execution_count": 29,
   "metadata": {},
   "outputs": [
    {
     "name": "stdout",
     "output_type": "stream",
     "text": [
      "\n",
      "Time taken: 9.5367431640625e-07\n",
      "\n",
      "390625\n",
      "\n",
      "Time taken: 2.1457672119140625e-06\n",
      "\n",
      "390625\n"
     ]
    }
   ],
   "source": [
    "import time\n",
    "\n",
    "def power(x, y):\n",
    "    before = time.time()\n",
    "    rv = x**y\n",
    "    after = time.time()\n",
    "    print(\"\\nTime taken: {}\\n\".format(after - before))\n",
    "    return rv\n",
    "\n",
    "\n",
    "def power_loop(x, y):\n",
    "    before = time.time()\n",
    "    rv = x\n",
    "    for i in range(y-1):\n",
    "        rv *= x\n",
    "    after = time.time()\n",
    "    print(\"\\nTime taken: {}\\n\".format(after - before))\n",
    "    return rv\n",
    "\n",
    "print(power(5,8))\n",
    "print(power_loop(5,8))"
   ]
  },
  {
   "cell_type": "markdown",
   "metadata": {},
   "source": [
    "However, this repeating code is deficient, especially when the codebase grows; what if additional methods need to be timed? Will that piece of code get repeated every time?\n",
    "\n",
    "This is where decorators flourish."
   ]
  },
  {
   "cell_type": "code",
   "execution_count": 36,
   "metadata": {},
   "outputs": [
    {
     "name": "stdout",
     "output_type": "stream",
     "text": [
      "\n",
      "Time taken: 9.5367431640625e-07\n",
      "\n",
      "390625\n",
      "\n",
      "Time taken: 1.9073486328125e-06\n",
      "\n",
      "390625\n"
     ]
    }
   ],
   "source": [
    "def timer(func):\n",
    "    def f(*args, **kwargs):\n",
    "        before = time.time()\n",
    "        rv = func(*args, **kwargs)\n",
    "        after = time.time()\n",
    "        print(\"\\nTime taken: {}\\n\".format(after - before))\n",
    "        return rv\n",
    "    return f\n",
    "\n",
    "def power(x, y):\n",
    "    return x**y\n",
    "power = timer(power)\n",
    "\n",
    "def power_loop(x, y):\n",
    "    rv = x\n",
    "    for i in range(y-1):\n",
    "        rv *= x\n",
    "    return rv\n",
    "power_loop = timer(power_loop)\n",
    "\n",
    "print(power(5,8))\n",
    "print(power_loop(5,8))"
   ]
  },
  {
   "cell_type": "markdown",
   "metadata": {},
   "source": [
    "This is much better, however, there is much simpler way of writing \n",
    "```python\n",
    "power = timer(power)\n",
    "```\n",
    "and it is to use decorators:"
   ]
  },
  {
   "cell_type": "code",
   "execution_count": 37,
   "metadata": {},
   "outputs": [
    {
     "name": "stdout",
     "output_type": "stream",
     "text": [
      "\n",
      "Time taken: 1.9073486328125e-06\n",
      "\n",
      "390625\n",
      "\n",
      "Time taken: 1.9073486328125e-06\n",
      "\n",
      "390625\n"
     ]
    }
   ],
   "source": [
    "@timer\n",
    "def power(x, y):\n",
    "    return x**y\n",
    "\n",
    "@timer\n",
    "def power_loop(x, y):\n",
    "    rv = x\n",
    "    for i in range(y-1):\n",
    "        rv *= x\n",
    "    return rv\n",
    "\n",
    "print(power(5,8))\n",
    "print(power_loop(5,8))"
   ]
  },
  {
   "cell_type": "markdown",
   "metadata": {},
   "source": [
    "### Higher Order Decorators\n",
    "Decorators can be nested, these decorators are called higher order decorators. There is no limit as to how many times you can nest these decorators."
   ]
  },
  {
   "cell_type": "code",
   "execution_count": 38,
   "metadata": {},
   "outputs": [
    {
     "name": "stdout",
     "output_type": "stream",
     "text": [
      "running add_hdec\n",
      "running add_hdec\n",
      "add(\"a\", \"b\") ab\n",
      "running sub_hdec\n",
      "running sub_hdec\n",
      "running sub_hdec\n",
      "running sub_hdec\n",
      "sub(10) 0\n"
     ]
    }
   ],
   "source": [
    "def ntimes(n):\n",
    "    def inner(f):\n",
    "        def wrapper(*args, **kwargs):\n",
    "            for _ in range(n):\n",
    "                print('running {.__name__}'.format(f))\n",
    "                rv = f(*args, **kwargs)\n",
    "            return rv\n",
    "        return wrapper\n",
    "    return inner\n",
    "    \n",
    "        \n",
    "@ntimes(2)\n",
    "def add_hdec(x, y=10):\n",
    "    return x + y\n",
    "\n",
    "@ntimes(4)\n",
    "def sub_hdec(x, y=10):\n",
    "    return x - y\n",
    "\n",
    "print('add(\"a\", \"b\")', add_hdec(\"a\", \"b\"))\n",
    "print('sub(10)', sub_hdec(10))"
   ]
  },
  {
   "cell_type": "markdown",
   "metadata": {},
   "source": [
    "## Generators\n"
   ]
  },
  {
   "cell_type": "markdown",
   "metadata": {},
   "source": [
    "## Metaclasses\n"
   ]
  },
  {
   "cell_type": "markdown",
   "metadata": {},
   "source": [
    "## Context Managers"
   ]
  },
  {
   "cell_type": "markdown",
   "metadata": {},
   "source": [
    "**NOTE:** This document was highly influenced by PyData talk from James Powell https://www.youtube.com/watch?v=7lmCu8wz8ro."
   ]
  },
  {
   "cell_type": "code",
   "execution_count": null,
   "metadata": {},
   "outputs": [],
   "source": []
  }
 ],
 "metadata": {
  "kernelspec": {
   "display_name": "Python 3",
   "language": "python",
   "name": "python3"
  },
  "language_info": {
   "codemirror_mode": {
    "name": "ipython",
    "version": 3
   },
   "file_extension": ".py",
   "mimetype": "text/x-python",
   "name": "python",
   "nbconvert_exporter": "python",
   "pygments_lexer": "ipython3",
   "version": "3.7.1"
  }
 },
 "nbformat": 4,
 "nbformat_minor": 2
}
